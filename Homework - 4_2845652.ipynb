{
 "cells": [
  {
   "cell_type": "code",
   "execution_count": 1,
   "id": "a9924868",
   "metadata": {},
   "outputs": [],
   "source": [
    "# Import libraries\n",
    "import numpy as np\n",
    "import pandas as pd"
   ]
  },
  {
   "cell_type": "code",
   "execution_count": 2,
   "id": "e8af9f5c",
   "metadata": {},
   "outputs": [
    {
     "name": "stdout",
     "output_type": "stream",
     "text": [
      "Initial 4x4 Array:\n",
      " [[ 3  9  7  4]\n",
      " [12 19 13 20]\n",
      " [ 5 11  7  1]\n",
      " [ 3  5 12 20]]\n"
     ]
    }
   ],
   "source": [
    "# Question 1\n",
    "# Part (a) - Create a 4x4 array of random integers from 1 to 20\n",
    "array_4x4 = np.random.randint(1, 21, size=(4, 4))\n",
    "print(\"Initial 4x4 Array:\\n\", array_4x4)"
   ]
  },
  {
   "cell_type": "code",
   "execution_count": 3,
   "id": "ff3c7674",
   "metadata": {},
   "outputs": [
    {
     "name": "stdout",
     "output_type": "stream",
     "text": [
      "\n",
      "Array with elements >10 replaced by 10:\n",
      " [[ 3  9  7  4]\n",
      " [10 10 10 10]\n",
      " [ 5 10  7  1]\n",
      " [ 3  5 10 10]]\n"
     ]
    }
   ],
   "source": [
    "# Part (c) - Replace elements greater than 10 with 10\n",
    "array_4x4[array_4x4 > 10] = 10\n",
    "print(\"\\nArray with elements >10 replaced by 10:\\n\", array_4x4)"
   ]
  },
  {
   "cell_type": "code",
   "execution_count": 4,
   "id": "ce081786",
   "metadata": {},
   "outputs": [
    {
     "name": "stdout",
     "output_type": "stream",
     "text": [
      "\n",
      "Sum of each row: [23 40 23 28]\n"
     ]
    }
   ],
   "source": [
    "# Part (d) - Sum of each row in modified array\n",
    "row_sums = np.sum(array_4x4, axis=1)\n",
    "print(\"\\nSum of each row:\", row_sums)"
   ]
  },
  {
   "cell_type": "code",
   "execution_count": 5,
   "id": "4f40acd6",
   "metadata": {},
   "outputs": [],
   "source": [
    "# Question 2\n",
    "data = np.array([5, 10, 15, 20, 25, 30, 35, 40])\n"
   ]
  },
  {
   "cell_type": "code",
   "execution_count": 6,
   "id": "8b13b068",
   "metadata": {},
   "outputs": [
    {
     "name": "stdout",
     "output_type": "stream",
     "text": [
      "\n",
      "Standard Deviation: 11.4564392373896\n",
      "Variance: 131.25\n"
     ]
    }
   ],
   "source": [
    "# Part (a) - Calculate standard deviation and variance\n",
    "std_dev = np.std(data)\n",
    "variance = np.var(data)\n",
    "print(\"\\nStandard Deviation:\", std_dev)\n",
    "print(\"Variance:\", variance)"
   ]
  },
  {
   "cell_type": "code",
   "execution_count": 7,
   "id": "4695b17e",
   "metadata": {},
   "outputs": [
    {
     "name": "stdout",
     "output_type": "stream",
     "text": [
      "Median: 22.5\n",
      "25th Percentile: 13.75\n"
     ]
    }
   ],
   "source": [
    "# Part (b) - Find median and 25th percentile\n",
    "median_value = np.median(data)\n",
    "percentile_25 = np.percentile(data, 25)\n",
    "print(\"Median:\", median_value)\n",
    "print(\"25th Percentile:\", percentile_25)"
   ]
  },
  {
   "cell_type": "code",
   "execution_count": 8,
   "id": "42d69b76",
   "metadata": {},
   "outputs": [
    {
     "name": "stdout",
     "output_type": "stream",
     "text": [
      "Normalized Data: [-1.52752523 -1.09108945 -0.65465367 -0.21821789  0.21821789  0.65465367\n",
      "  1.09108945  1.52752523]\n"
     ]
    }
   ],
   "source": [
    "# Part (c) - Normalize array to mean 0, standard deviation 1\n",
    "data_normalized = (data - np.mean(data)) / np.std(data)\n",
    "print(\"Normalized Data:\", data_normalized)"
   ]
  },
  {
   "cell_type": "code",
   "execution_count": 9,
   "id": "70283154",
   "metadata": {},
   "outputs": [
    {
     "name": "stdout",
     "output_type": "stream",
     "text": [
      "\n",
      "Array from 1 to 15: [ 1  2  3  4  5  6  7  8  9 10 11 12 13 14 15]\n"
     ]
    }
   ],
   "source": [
    "# Question 3\n",
    "# Part (a) - Array from 1 to 15\n",
    "arr = np.arange(1, 16)\n",
    "print(\"\\nArray from 1 to 15:\", arr)"
   ]
  },
  {
   "cell_type": "code",
   "execution_count": 10,
   "id": "97818522",
   "metadata": {},
   "outputs": [
    {
     "name": "stdout",
     "output_type": "stream",
     "text": [
      "Even numbers: [ 2  4  6  8 10 12 14]\n"
     ]
    }
   ],
   "source": [
    "# Part (b) - Extract all even numbers\n",
    "even_numbers = arr[arr % 2 == 0]\n",
    "print(\"Even numbers:\", even_numbers)"
   ]
  },
  {
   "cell_type": "code",
   "execution_count": 11,
   "id": "6fa1c231",
   "metadata": {},
   "outputs": [
    {
     "name": "stdout",
     "output_type": "stream",
     "text": [
      "Array with numbers divisible by 3 replaced by -3: [ 1  2 -3  4  5 -3  7  8 -3 10 11 -3 13 14 -3]\n"
     ]
    }
   ],
   "source": [
    "# Part (c) - Replace numbers divisible by 3 with -3\n",
    "modified_array = np.where(arr % 3 == 0, -3, arr)\n",
    "print(\"Array with numbers divisible by 3 replaced by -3:\", modified_array)"
   ]
  },
  {
   "cell_type": "code",
   "execution_count": 12,
   "id": "8dae7941",
   "metadata": {},
   "outputs": [],
   "source": [
    "# Question 4\n",
    "x = np.array([1, 2, 3])\n",
    "y = np.array([4, 5, 6])"
   ]
  },
  {
   "cell_type": "code",
   "execution_count": 13,
   "id": "b41cc02a",
   "metadata": {},
   "outputs": [
    {
     "name": "stdout",
     "output_type": "stream",
     "text": [
      "\n",
      "Vertical Stack:\n",
      " [[1 2 3]\n",
      " [4 5 6]]\n",
      "Horizontal Stack:\n",
      " [1 2 3 4 5 6]\n"
     ]
    }
   ],
   "source": [
    "# Part (b) - Stack arrays vertically and horizontally\n",
    "vertical_stack = np.vstack((x, y))\n",
    "horizontal_stack = np.hstack((x, y))\n",
    "print(\"\\nVertical Stack:\\n\", vertical_stack)\n",
    "print(\"Horizontal Stack:\\n\", horizontal_stack)"
   ]
  },
  {
   "cell_type": "code",
   "execution_count": 14,
   "id": "20cd1428",
   "metadata": {},
   "outputs": [
    {
     "name": "stdout",
     "output_type": "stream",
     "text": [
      "Concatenated Array: [1 2 3 4 5 6]\n"
     ]
    }
   ],
   "source": [
    "# Part (c) - Concatenate x and y\n",
    "concatenated_array = np.concatenate((x, y))\n",
    "print(\"Concatenated Array:\", concatenated_array)"
   ]
  },
  {
   "cell_type": "code",
   "execution_count": 15,
   "id": "e19d02ad",
   "metadata": {},
   "outputs": [],
   "source": [
    "# Question 5\n",
    "# Part (a) - Create Series from dictionary\n",
    "series_data = {'a': 10, 'b': 20, 'c': 30, 'd': 40}\n",
    "series = pd.Series(series_data)"
   ]
  },
  {
   "cell_type": "code",
   "execution_count": 16,
   "id": "bc67954f",
   "metadata": {},
   "outputs": [
    {
     "name": "stdout",
     "output_type": "stream",
     "text": [
      "\n",
      "Series with values multiplied by 2:\n",
      " a    20\n",
      "b    40\n",
      "c    60\n",
      "d    80\n",
      "dtype: int64\n"
     ]
    }
   ],
   "source": [
    "# Part (b) - Multiply all values by 2\n",
    "series_multiplied = series * 2\n",
    "print(\"\\nSeries with values multiplied by 2:\\n\", series_multiplied)"
   ]
  },
  {
   "cell_type": "code",
   "execution_count": 17,
   "id": "b434395f",
   "metadata": {},
   "outputs": [
    {
     "name": "stdout",
     "output_type": "stream",
     "text": [
      "Does index 'e' exist? False\n"
     ]
    }
   ],
   "source": [
    "# Part (c) - Check if index 'e' exists\n",
    "index_check = 'e' in series\n",
    "print(\"Does index 'e' exist?\", index_check)"
   ]
  },
  {
   "cell_type": "code",
   "execution_count": 18,
   "id": "c590b359",
   "metadata": {},
   "outputs": [
    {
     "name": "stdout",
     "output_type": "stream",
     "text": [
      "\n",
      "DataFrame from Series:\n",
      "    Numbers\n",
      "a       10\n",
      "b       20\n",
      "c       30\n",
      "d       40\n"
     ]
    }
   ],
   "source": [
    "# Part (d) - Convert Series to DataFrame\n",
    "df_series = series.to_frame(name='Numbers')\n",
    "print(\"\\nDataFrame from Series:\\n\", df_series)"
   ]
  },
  {
   "cell_type": "code",
   "execution_count": 19,
   "id": "7f8f6e40",
   "metadata": {},
   "outputs": [
    {
     "name": "stdout",
     "output_type": "stream",
     "text": [
      "\n",
      "Initial DataFrame:\n",
      "     A   B   C\n",
      "0   7  34  44\n",
      "1   4  40   6\n",
      "2  46  36  29\n",
      "3  42  10  22\n",
      "4  21  46  11\n"
     ]
    }
   ],
   "source": [
    "# Question 6\n",
    "# Part (a) - Create DataFrame with random integers\n",
    "df = pd.DataFrame({\n",
    "    'A': np.random.randint(0, 51, size=5),\n",
    "    'B': np.random.randint(0, 51, size=5),\n",
    "    'C': np.random.randint(0, 51, size=5)\n",
    "})\n",
    "print(\"\\nInitial DataFrame:\\n\", df)"
   ]
  },
  {
   "cell_type": "code",
   "execution_count": 20,
   "id": "351c5309",
   "metadata": {},
   "outputs": [
    {
     "name": "stdout",
     "output_type": "stream",
     "text": [
      "\n",
      "DataFrame with 'D' column:\n",
      "     A   B   C   D\n",
      "0   7  34  44  41\n",
      "1   4  40   6  44\n",
      "2  46  36  29  82\n",
      "3  42  10  22  52\n",
      "4  21  46  11  67\n"
     ]
    }
   ],
   "source": [
    "# Part (b) - Add column 'D' as sum of 'A' and 'B'\n",
    "df['D'] = df['A'] + df['B']\n",
    "print(\"\\nDataFrame with 'D' column:\\n\", df)"
   ]
  },
  {
   "cell_type": "code",
   "execution_count": 21,
   "id": "1a608cc4",
   "metadata": {},
   "outputs": [
    {
     "name": "stdout",
     "output_type": "stream",
     "text": [
      "\n",
      "DataFrame after dropping 'C':\n",
      "     A   B   D\n",
      "0   7  34  41\n",
      "1   4  40  44\n",
      "2  46  36  82\n",
      "3  42  10  52\n",
      "4  21  46  67\n"
     ]
    }
   ],
   "source": [
    "# Part (c) - Drop column 'C'\n",
    "df = df.drop(columns=['C'])\n",
    "print(\"\\nDataFrame after dropping 'C':\\n\", df)\n"
   ]
  },
  {
   "cell_type": "code",
   "execution_count": 22,
   "id": "6ad5365b",
   "metadata": {},
   "outputs": [
    {
     "name": "stdout",
     "output_type": "stream",
     "text": [
      "\n",
      "DataFrame after renaming 'D' to 'Total':\n",
      "     A   B  Total\n",
      "0   7  34     41\n",
      "1   4  40     44\n",
      "2  46  36     82\n",
      "3  42  10     52\n",
      "4  21  46     67\n"
     ]
    }
   ],
   "source": [
    "# Part (d) - Rename column 'D' to 'Total'\n",
    "df = df.rename(columns={'D': 'Total'})\n",
    "print(\"\\nDataFrame after renaming 'D' to 'Total':\\n\", df)"
   ]
  },
  {
   "cell_type": "code",
   "execution_count": 23,
   "id": "6bb05fd6",
   "metadata": {},
   "outputs": [
    {
     "name": "stdout",
     "output_type": "stream",
     "text": [
      "\n",
      "DataFrame with Date index:\n",
      "                              A   B  Total\n",
      "2024-11-07 23:23:33.268758   7  34     41\n",
      "2024-11-08 23:23:33.268758   4  40     44\n",
      "2024-11-09 23:23:33.268758  46  36     82\n",
      "2024-11-10 23:23:33.268758  42  10     52\n",
      "2024-11-11 23:23:33.268758  21  46     67\n"
     ]
    }
   ],
   "source": [
    "# Question 7\n",
    "# Part (a) - Set index as date range starting from today\n",
    "df.index = pd.date_range(start=pd.Timestamp.today(), periods=len(df))\n",
    "print(\"\\nDataFrame with Date index:\\n\", df)"
   ]
  },
  {
   "cell_type": "code",
   "execution_count": 24,
   "id": "9fb6eb1a",
   "metadata": {},
   "outputs": [
    {
     "name": "stdout",
     "output_type": "stream",
     "text": [
      "\n",
      "Rows with 'Total' > 50:\n",
      "                              A   B  Total\n",
      "2024-11-09 23:23:33.268758  46  36     82\n",
      "2024-11-10 23:23:33.268758  42  10     52\n",
      "2024-11-11 23:23:33.268758  21  46     67\n"
     ]
    }
   ],
   "source": [
    "# Part (b) - Select rows where 'Total' > 50\n",
    "rows_with_total_above_50 = df[df['Total'] > 50]\n",
    "print(\"\\nRows with 'Total' > 50:\\n\", rows_with_total_above_50)\n"
   ]
  },
  {
   "cell_type": "code",
   "execution_count": 25,
   "id": "620126d4",
   "metadata": {},
   "outputs": [
    {
     "name": "stdout",
     "output_type": "stream",
     "text": [
      "\n",
      "First three rows with columns 'A' and 'Total':\n",
      "                              A  Total\n",
      "2024-11-07 23:23:33.268758   7     41\n",
      "2024-11-08 23:23:33.268758   4     44\n",
      "2024-11-09 23:23:33.268758  46     82\n"
     ]
    }
   ],
   "source": [
    "# Part (c) - Select columns 'A' and 'Total' for the first three rows\n",
    "first_three_rows = df.iloc[:3][['A', 'Total']]\n",
    "print(\"\\nFirst three rows with columns 'A' and 'Total':\\n\", first_three_rows)"
   ]
  },
  {
   "cell_type": "code",
   "execution_count": 26,
   "id": "a68a8cb9",
   "metadata": {},
   "outputs": [],
   "source": [
    "# Question 8\n",
    "# Create DataFrame with missing values\n",
    "data = {\n",
    "    'Name': ['Tom', 'James', 'Ricky', 'Vin', 'Steve'],\n",
    "    'Age': [28, 34, np.nan, 29, np.nan],\n",
    "    'Score': [85.0, np.nan, 79.0, np.nan, 92.0]\n",
    "}\n",
    "df_missing = pd.DataFrame(data)"
   ]
  },
  {
   "cell_type": "code",
   "execution_count": 27,
   "id": "18657707",
   "metadata": {},
   "outputs": [
    {
     "name": "stdout",
     "output_type": "stream",
     "text": [
      "\n",
      "Columns with missing values: Index(['Age', 'Score'], dtype='object')\n"
     ]
    }
   ],
   "source": [
    "# Part (b) - Identify columns with missing values\n",
    "missing_columns = df_missing.columns[df_missing.isna().any()]\n",
    "print(\"\\nColumns with missing values:\", missing_columns)"
   ]
  },
  {
   "cell_type": "code",
   "execution_count": 28,
   "id": "60b780ed",
   "metadata": {},
   "outputs": [
    {
     "name": "stdout",
     "output_type": "stream",
     "text": [
      "\n",
      "DataFrame after filling missing 'Age' values:\n",
      "     Name   Age  Score\n",
      "0    Tom  28.0   85.0\n",
      "1  James  34.0    NaN\n",
      "2  Ricky  29.0   79.0\n",
      "3    Vin  29.0    NaN\n",
      "4  Steve  29.0   92.0\n"
     ]
    }
   ],
   "source": [
    "# Part (c) - Fill missing 'Age' values with median age\n",
    "df_missing['Age'].fillna(df_missing['Age'].median(), inplace=True)\n",
    "print(\"\\nDataFrame after filling missing 'Age' values:\\n\", df_missing)\n"
   ]
  },
  {
   "cell_type": "code",
   "execution_count": 29,
   "id": "e3b706b8",
   "metadata": {},
   "outputs": [
    {
     "name": "stdout",
     "output_type": "stream",
     "text": [
      "\n",
      "DataFrame after dropping rows with missing 'Score':\n",
      "     Name   Age  Score\n",
      "0    Tom  28.0   85.0\n",
      "2  Ricky  29.0   79.0\n",
      "4  Steve  29.0   92.0\n"
     ]
    }
   ],
   "source": [
    "# Part (d) - Drop rows with missing 'Score'\n",
    "df_missing = df_missing.dropna(subset=['Score'])\n",
    "print(\"\\nDataFrame after dropping rows with missing 'Score':\\n\", df_missing)"
   ]
  },
  {
   "cell_type": "code",
   "execution_count": 30,
   "id": "b8e71252",
   "metadata": {},
   "outputs": [
    {
     "name": "stdout",
     "output_type": "stream",
     "text": [
      "\n",
      "Total points by team:\n",
      " Team\n",
      "A    25\n",
      "B    45\n",
      "C    65\n",
      "Name: Points, dtype: int64\n"
     ]
    }
   ],
   "source": [
    "# Question 9\n",
    "# Part (a) - Group by 'Team' and calculate total points\n",
    "data = {\n",
    "    'Team': ['A', 'A', 'B', 'B', 'C', 'C'],\n",
    "    'Player': ['John', 'Alice', 'Bob', 'Emily', 'Frank', 'Grace'],\n",
    "    'Points': [10, 15, 20, 25, 30, 35]\n",
    "}\n",
    "df_teams = pd.DataFrame(data)\n",
    "team_totals = df_teams.groupby('Team')['Points'].sum()\n",
    "print(\"\\nTotal points by team:\\n\", team_totals)\n"
   ]
  },
  {
   "cell_type": "code",
   "execution_count": 31,
   "id": "bc8f8f0f",
   "metadata": {},
   "outputs": [
    {
     "name": "stdout",
     "output_type": "stream",
     "text": [
      "\n",
      "Player with max points for each team:\n",
      "   Team Player  Points\n",
      "1    A  Alice      15\n",
      "3    B  Emily      25\n",
      "5    C  Grace      35\n"
     ]
    }
   ],
   "source": [
    "# Part (b) - Find player with max points for each team\n",
    "max_points_per_team = df_teams.loc[df_teams.groupby('Team')['Points'].idxmax()]\n",
    "print(\"\\nPlayer with max points for each team:\\n\", max_points_per_team)"
   ]
  },
  {
   "cell_type": "code",
   "execution_count": 32,
   "id": "0daf61af",
   "metadata": {},
   "outputs": [
    {
     "name": "stdout",
     "output_type": "stream",
     "text": [
      "\n",
      "Individuals over 30:\n",
      "       Name  Age      City  Income\n",
      "2  Charlie   35  New York   75000\n",
      "4    Ethan   40   Chicago   90000\n"
     ]
    }
   ],
   "source": [
    "# Question 10\n",
    "# Part (a) - Filter DataFrame for individuals over 30\n",
    "data = {\n",
    "    'Name': ['Anna', 'Ben', 'Charlie', 'Diana', 'Ethan', 'Fiona'],\n",
    "    'Age': [28, 22, 35, 30, 40, 25],\n",
    "    'City': ['New York', 'Los Angeles', 'New York', 'Chicago', 'Chicago', 'Los Angeles'],\n",
    "    'Income': [50000, 60000, 75000, 82000, 90000, 45000]\n",
    "}\n",
    "df_people = pd.DataFrame(data)\n",
    "over_30 = df_people[df_people['Age'] > 30]\n",
    "print(\"\\nIndividuals over 30:\\n\", over_30)"
   ]
  },
  {
   "cell_type": "code",
   "execution_count": 33,
   "id": "6173335d",
   "metadata": {},
   "outputs": [
    {
     "name": "stdout",
     "output_type": "stream",
     "text": [
      "\n",
      "Individuals from 'New York' or 'Chicago':\n",
      "       Name  Age      City  Income\n",
      "2  Charlie   35  New York   75000\n",
      "4    Ethan   40   Chicago   90000\n"
     ]
    }
   ],
   "source": [
    "# Part (b) - Filter for 'New York' or 'Chicago'\n",
    "ny_or_chicago = over_30[over_30['City'].isin(['New York', 'Chicago'])]\n",
    "print(\"\\nIndividuals from 'New York' or 'Chicago':\\n\", ny_or_chicago)"
   ]
  },
  {
   "cell_type": "code",
   "execution_count": 34,
   "id": "3cfa0402",
   "metadata": {},
   "outputs": [
    {
     "name": "stdout",
     "output_type": "stream",
     "text": [
      "\n",
      "Average income of filtered individuals: 82500.0\n"
     ]
    }
   ],
   "source": [
    "# Part (c) - Calculate average income\n",
    "avg_income = ny_or_chicago['Income'].mean()\n",
    "print(\"\\nAverage income of filtered individuals:\", avg_income)"
   ]
  },
  {
   "cell_type": "code",
   "execution_count": 35,
   "id": "7046e388",
   "metadata": {},
   "outputs": [
    {
     "name": "stdout",
     "output_type": "stream",
     "text": [
      "\n",
      "Filtered DataFrame with reset index:\n",
      "       Name  Age      City  Income\n",
      "0  Charlie   35  New York   75000\n",
      "1    Ethan   40   Chicago   90000\n"
     ]
    }
   ],
   "source": [
    "# Part (d) - Reset index\n",
    "ny_or_chicago_reset = ny_or_chicago.reset_index(drop=True)\n",
    "print(\"\\nFiltered DataFrame with reset index:\\n\", ny_or_chicago_reset)"
   ]
  },
  {
   "cell_type": "code",
   "execution_count": null,
   "id": "3f61e545",
   "metadata": {},
   "outputs": [],
   "source": []
  }
 ],
 "metadata": {
  "kernelspec": {
   "display_name": "Python 3 (ipykernel)",
   "language": "python",
   "name": "python3"
  },
  "language_info": {
   "codemirror_mode": {
    "name": "ipython",
    "version": 3
   },
   "file_extension": ".py",
   "mimetype": "text/x-python",
   "name": "python",
   "nbconvert_exporter": "python",
   "pygments_lexer": "ipython3",
   "version": "3.10.9"
  }
 },
 "nbformat": 4,
 "nbformat_minor": 5
}
